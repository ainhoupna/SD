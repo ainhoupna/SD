{
 "cells": [
  {
   "cell_type": "markdown",
   "id": "9d969226-16a9-4280-b2b5-b23eb6cd6f17",
   "metadata": {},
   "source": [
    "# Exploratory Data Analysis on FashionMNIST CSV Dataset\n",
    "\n",
    "This notebook uses the `FashionMNISTCSVDataset` class to load the FashionMNIST data from CSV files and creates useful visualizations:\n",
    "\n",
    "- Number of images per class\n",
    "- Pixel intensity distribution across all classes (combined plot)\n",
    "\n",
    "Plots will be saved in `reports/figures/`"
   ]
  },
  {
   "cell_type": "code",
   "execution_count": 2,
   "id": "5bb3396a-5528-483e-94fd-6b4667eec9ae",
   "metadata": {},
   "outputs": [],
   "source": [
    "import os\n",
    "import numpy as np\n",
    "import seaborn as sns\n",
    "import matplotlib.pyplot as plt\n",
    "\n",
    "# Import the new DataModule\n",
    "from dataset import FashionMNISTDataModule\n",
    "\n",
    "sns.set(style=\"whitegrid\")\n",
    "FIGURE_DIR = os.path.abspath('reports/figures')\n",
    "\n",
    "def ensure_dir(path):\n",
    "    if not os.path.exists(path):\n",
    "        os.makedirs(path)\n"
   ]
  },
  {
   "cell_type": "markdown",
   "id": "c75094e7-5b29-4142-8f8b-18aec31b0893",
   "metadata": {},
   "source": [
    "### Load the Dataset\n",
    "\n",
    "We will load the training dataset CSV file without applying any transformations so that the pixel values remain in their original [0, 255] range.\n"
   ]
  },
  {
   "cell_type": "code",
   "execution_count": null,
   "id": "8a8071d4-e3fb-4091-a0e0-cf46827b2402",
   "metadata": {},
   "outputs": [
    {
     "name": "stderr",
     "output_type": "stream",
     "text": [
      "100%|██████████| 26.4M/26.4M [00:09<00:00, 2.68MB/s]\n",
      "100%|██████████| 29.5k/29.5k [00:00<00:00, 794kB/s]\n",
      "100%|██████████| 4.42M/4.42M [00:00<00:00, 5.12MB/s]\n",
      "100%|██████████| 5.15k/5.15k [00:00<00:00, 22.4MB/s]\n"
     ]
    }
   ],
   "source": [
    "# 1. Instantiate the DataModule\n",
    "dm = FashionMNISTDataModule(data_dir=\"data/\")\n",
    "\n",
    "# 2. Download and prepare the datasets\n",
    "dm.prepare_data()\n",
    "dm.setup()\n",
    "\n",
    "# 3. Use the combined train/validation dataset for analysis\n",
    "dataset = dm.train_val_dataset"
   ]
  },
  {
   "cell_type": "markdown",
   "id": "5a96a44a-1881-46e4-8a6c-5128ba70aa73",
   "metadata": {},
   "source": [
    "### Plot 1: Number of Images per Class\n",
    "\n",
    "Let's count how many images are present for each class and visualize it as a bar plot.\n"
   ]
  },
  {
   "cell_type": "code",
   "execution_count": 4,
   "id": "6433f2b6-20cb-47f8-8479-c922cb3b54e5",
   "metadata": {},
   "outputs": [
    {
     "name": "stderr",
     "output_type": "stream",
     "text": [
      "/tmp/ipykernel_734324/1995024115.py:6: FutureWarning: \n",
      "\n",
      "Passing `palette` without assigning `hue` is deprecated and will be removed in v0.14.0. Assign the `x` variable to `hue` and set `legend=False` for the same effect.\n",
      "\n",
      "  sns.barplot(x=classes, y=counts, palette=\"viridis\")\n"
     ]
    },
    {
     "data": {
      "image/png": "[encoded data removed]",
      "text/plain": [
       "<Figure size 800x500 with 1 Axes>"
      ]
     },
     "metadata": {},
     "output_type": "display_data"
    },
    {
     "name": "stdout",
     "output_type": "stream",
     "text": [
      "Saved plot: /home/alumno/Desktop/datos/SD/my_project/reports/figures/images_per_class.png\n"
     ]
    }
   ],
   "source": [
    "def plot_images_per_class(dataset):\n",
    "    labels = [label.item() if hasattr(label, 'item') else label for _, label in dataset]\n",
    "    classes, counts = np.unique(labels, return_counts=True)\n",
    "\n",
    "    plt.figure(figsize=(8, 5))\n",
    "    sns.barplot(x=classes, y=counts, palette=\"viridis\")\n",
    "    plt.title('Number of Images per Class')\n",
    "    plt.xlabel('Class Label')\n",
    "    plt.ylabel('Number of Images')\n",
    "    plt.xticks(classes)\n",
    "    plt.tight_layout()\n",
    "\n",
    "    save_path = os.path.join(FIGURE_DIR, 'images_per_class.png')\n",
    "    ensure_dir(FIGURE_DIR)\n",
    "    plt.savefig(save_path)\n",
    "    plt.show()\n",
    "    plt.close()\n",
    "    print(f'Saved plot: {save_path}')\n",
    "\n",
    "plot_images_per_class(dataset)\n"
   ]
  },
  {
   "cell_type": "markdown",
   "id": "ac816c10-845b-40e4-af31-96d9486720e7",
   "metadata": {},
   "source": [
    "We can see that the dataset is balanced because each class has the same number of images (all class labels (0 to 9) have equal height). A balanced dataset helps ensure that the model does not become biased toward any particular class during training."
   ]
  },
  {
   "cell_type": "markdown",
   "id": "3c667fcb-5055-481b-8b56-bb160bf0a08c",
   "metadata": {},
   "source": [
    "### Plot 2: Pixel Intensity Distribution for All Classes\n",
    "\n",
    "Next, we visualize the pixel intensity distributions for *all* classes on the same plot using subplots. Each subplot shows the distribution of pixel intensities (values from 0 to 255) for images belonging to a specific class.\n"
   ]
  },
  {
   "cell_type": "code",
   "execution_count": null,
   "id": "d86c5335-cbef-4830-84c6-9e86bd3dbc49",
   "metadata": {},
   "outputs": [],
   "source": [
    "# Subplot distribution for each class\n",
    "def plot_pixel_distributions_subplots(dataset):\n",
    "    fig, axes = plt.subplots(2, 5, figsize=(20, 8), sharex=True, sharey=True)\n",
    "    axes = axes.flatten()\n",
    "\n",
    "    for class_label in range(10):\n",
    "        # Get all images for current class\n",
    "        images = [img.numpy() if hasattr(img, 'numpy') else img for img, label in dataset if label == class_label]\n",
    "        pixels = np.concatenate([img.flatten() for img in images])\n",
    "        \n",
    "        ax = axes[class_label]\n",
    "        sns.histplot(pixels, bins=50, kde=False, color='skyblue', ax=ax)\n",
    "        ax.set_title(f'Class {class_label}')\n",
    "        ax.set_xlabel('')\n",
    "        ax.set_ylabel('')\n",
    "\n",
    "    fig.suptitle('Pixel Intensity Distributions per Class', fontsize=16)\n",
    "    plt.tight_layout(rect=[0, 0.03, 1, 0.95])  # Leave space for title\n",
    "\n",
    "    save_path = os.path.join(FIGURE_DIR, 'pixel_distributions_per_class.png')\n",
    "    plt.savefig(save_path)\n",
    "    plt.show()\n",
    "    plt.close()\n",
    "    print(f'Saved: {save_path}')\n",
    "\n",
    "plot_pixel_distributions_subplots(dataset)"
   ]
  },
  {
   "cell_type": "markdown",
   "id": "fa2b90ad-805c-491d-8cb3-903c483edf02",
   "metadata": {},
   "source": [
    "Observations: all classes span a similar overall pixel intensity range — from dark (0) to bright (255), which is expected for grayscale images. However, we can observe some differences in the concentration of low-intensity pixels (near 0) across classes. For example, some classes (like Class 1, Class 5 or Class 7) appear to have a higher peak at intensity 0, suggesting that those images contain more black (background or empty) pixels. This could imply that these classes correspond to garments that occupy less area in the image, leaving more background, or that the clothing items are brighter overall."
   ]
  }
 ],
 "metadata": {
  "kernelspec": {
   "display_name": ".venv",
   "language": "python",
   "name": "python3"
  },
  "language_info": {
   "codemirror_mode": {
    "name": "ipython",
    "version": 3
   },
   "file_extension": ".py",
   "mimetype": "text/x-python",
   "name": "python",
   "nbconvert_exporter": "python",
   "pygments_lexer": "ipython3",
   "version": "3.12.3"
  }
 },
 "nbformat": 4,
 "nbformat_minor": 5
}
